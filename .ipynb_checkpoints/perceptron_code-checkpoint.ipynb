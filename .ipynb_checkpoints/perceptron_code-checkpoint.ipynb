{
 "cells": [
  {
   "cell_type": "code",
   "execution_count": 1,
   "metadata": {},
   "outputs": [],
   "source": [
    "import numpy as np\n",
    "import matplotlib.pyplot as plt\n",
    "import seaborn as sns\n",
    "sns.set_style('darkgrid')\n",
    "%matplotlib inline\n",
    "\n",
    "from sklearn.datasets import make_classification"
   ]
  },
  {
   "cell_type": "code",
   "execution_count": 2,
   "metadata": {},
   "outputs": [
    {
     "data": {
      "image/png": "[encoded data removed]",
      "text/plain": [
       "<Figure size 768x512 with 1 Axes>"
      ]
     },
     "metadata": {
      "needs_background": "light"
     },
     "output_type": "display_data"
    }
   ],
   "source": [
    "FIGURE_RESOLUTION = 128\n",
    "plt.rcParams['figure.dpi'] = FIGURE_RESOLUTION\n",
    "\n",
    "def create_toy_data(n_samples=200, class_sep=2):\n",
    "    X, Y = make_classification(n_samples=200, n_features=2, n_informative=2, \n",
    "                               n_redundant=0, n_clusters_per_class=1, flip_y=0,\n",
    "                               class_sep=class_sep, random_state=1)\n",
    "    Y[Y==0] = -1 # encode \"negative\" class using -1 rather than 0\n",
    "    plt.plot(X[Y==-1,0], X[Y==-1,1], \".\", label=\"$y = -1$\")\n",
    "    plt.plot(X[Y==1,0], X[Y==1,1], \".\", label=\"$y = 1$\")\n",
    "    plt.legend()\n",
    "    plt.xlabel(\"$x_0$\")\n",
    "    plt.ylabel(\"$x_1$\")\n",
    "    plt.show()\n",
    "\n",
    "    return X,Y\n",
    "\n",
    "X_train, Y_train = create_toy_data(class_sep=2)"
   ]
  },
  {
   "cell_type": "code",
   "execution_count": 3,
   "metadata": {},
   "outputs": [
    {
     "data": {
      "text/plain": [
       "array([[ 1.71103618,  1.60718786],\n",
       "       [ 2.12300813, -1.09221945],\n",
       "       [ 2.891575  , -2.21810421],\n",
       "       [ 1.8560341 , -1.92907063],\n",
       "       [ 2.97196595, -3.14504997],\n",
       "       [ 2.04461957, -3.74175343],\n",
       "       [ 1.2180234 ,  2.10058257],\n",
       "       [ 2.148998  , -0.72894455],\n",
       "       [ 1.83850123, -4.27970069],\n",
       "       [ 0.66397955,  2.42538392],\n",
       "       [-0.2884696 , -6.0550718 ],\n",
       "       [ 2.63173177, -2.69763993],\n",
       "       [ 1.20249141, -3.31523866],\n",
       "       [ 1.95827408,  1.01574832],\n",
       "       [ 1.65076635,  1.23794496],\n",
       "       [ 0.98001242, -4.79900562],\n",
       "       [ 2.4653946 ,  2.35981327],\n",
       "       [ 1.30906121, -3.32269954],\n",
       "       [ 2.73332731, -0.92846511],\n",
       "       [ 0.7632321 ,  1.93190461],\n",
       "       [ 0.9526195 , -2.97234394],\n",
       "       [ 2.32126192, -2.01675736],\n",
       "       [ 1.4324387 , -1.00662026],\n",
       "       [ 0.25826109, -2.4929351 ],\n",
       "       [ 1.50040649,  2.55574145],\n",
       "       [ 2.77408279, -2.39530753],\n",
       "       [ 1.36723035,  1.15776067],\n",
       "       [ 3.88495902,  0.45153356],\n",
       "       [ 2.04961499, -2.15242292],\n",
       "       [ 2.2868931 ,  3.22608052],\n",
       "       [ 1.89703934,  1.33072199],\n",
       "       [ 2.71269591,  1.78689472],\n",
       "       [ 2.47975087,  1.52743521],\n",
       "       [ 1.98301513,  1.74166593],\n",
       "       [ 1.47609153,  0.47004751],\n",
       "       [ 2.48135592,  1.85206049],\n",
       "       [ 3.36463358, -0.9902982 ],\n",
       "       [ 2.36991168, -4.00213159],\n",
       "       [ 3.5327466 ,  3.44486137],\n",
       "       [ 1.85260337, -3.52620992],\n",
       "       [ 1.38965021,  1.70128569],\n",
       "       [ 2.35463434,  1.51577514],\n",
       "       [ 1.29508024,  1.29807904],\n",
       "       [ 1.57502429,  2.67843685],\n",
       "       [ 2.0256987 , -3.5131986 ],\n",
       "       [ 3.35787063,  2.58608902],\n",
       "       [ 1.84134134,  1.74122334],\n",
       "       [ 0.46507629, -4.07866167],\n",
       "       [ 1.03043825, -2.70086358],\n",
       "       [ 1.64087096, -2.65771121],\n",
       "       [ 1.88710366,  2.26990005],\n",
       "       [ 2.09820326, -2.14864274],\n",
       "       [ 3.50486833, -0.85039168],\n",
       "       [ 2.61335795, -1.42642146],\n",
       "       [ 1.44422847, -1.73155481],\n",
       "       [ 2.26960914, -1.99384702],\n",
       "       [ 2.77652613,  3.00281952],\n",
       "       [ 1.71810193, -1.36364209],\n",
       "       [ 2.11238649, -1.69661588],\n",
       "       [ 2.40285553,  2.19403216],\n",
       "       [ 2.17489   ,  0.88184015],\n",
       "       [ 0.86394387, -4.30954199],\n",
       "       [ 3.09097297, -2.77185175],\n",
       "       [ 1.14331627, -1.77125373],\n",
       "       [ 4.06466014, -0.90033125],\n",
       "       [ 1.86276758,  2.00066971],\n",
       "       [ 2.41771211,  3.19131421],\n",
       "       [ 2.54732299, -2.39873045],\n",
       "       [ 1.55611577, -3.68221549],\n",
       "       [ 1.54217837,  1.5065945 ],\n",
       "       [ 2.28622321,  2.26274532],\n",
       "       [ 1.87987502, -1.33963526],\n",
       "       [ 2.70867051,  3.00927686],\n",
       "       [ 2.4772512 , -0.93970834],\n",
       "       [ 2.26703847, -2.7850533 ],\n",
       "       [ 1.41934045,  1.66299979],\n",
       "       [ 2.52054279,  0.38740238],\n",
       "       [ 1.95933439,  2.45902145],\n",
       "       [-0.3108249 , -1.81952046],\n",
       "       [ 2.68524891, -1.01133953],\n",
       "       [ 1.44241397, -2.25238227],\n",
       "       [ 1.42419152,  3.90780209],\n",
       "       [ 1.6274395 , -2.06119874],\n",
       "       [ 1.22960987, -2.06088467],\n",
       "       [ 2.33853718, -0.96805776],\n",
       "       [ 3.68527201,  1.03483108],\n",
       "       [ 1.60354066,  1.93024795],\n",
       "       [ 0.56396099, -4.11611324],\n",
       "       [ 0.39282792, -4.36529351],\n",
       "       [ 2.21415159, -0.52991043],\n",
       "       [-0.79033839, -2.03593079],\n",
       "       [ 1.81151514, -2.09670702],\n",
       "       [ 1.84721543,  2.19119406],\n",
       "       [ 2.51025654, -1.09261356],\n",
       "       [ 2.94871555, -0.55652468],\n",
       "       [ 3.13754102, -2.04909377],\n",
       "       [ 2.10890363,  2.43534211],\n",
       "       [ 1.90526129,  1.8419703 ],\n",
       "       [ 2.29283177, -1.0874038 ],\n",
       "       [ 2.57783647,  2.32437064],\n",
       "       [ 2.6012787 ,  2.45079915],\n",
       "       [ 0.77081329, -3.1207374 ],\n",
       "       [ 3.85453002, -1.05427323],\n",
       "       [ 1.96831368, -2.90981699],\n",
       "       [ 1.76441756,  3.58980826],\n",
       "       [ 1.4633826 ,  2.91880846],\n",
       "       [ 1.64952811, -0.94359854],\n",
       "       [ 1.59317534,  1.77374597],\n",
       "       [ 2.7329497 ,  2.33421499],\n",
       "       [ 1.80938743, -0.48795395],\n",
       "       [ 1.97899422,  1.66660772],\n",
       "       [ 1.81924336,  2.23173578],\n",
       "       [ 1.89353469,  2.61529301],\n",
       "       [ 2.44592921,  2.99057998],\n",
       "       [ 2.14439802,  1.40495579],\n",
       "       [ 1.69415161,  2.76595617],\n",
       "       [ 2.2981826 ,  1.83395343],\n",
       "       [ 2.89064501,  2.7440078 ],\n",
       "       [ 2.39824519,  3.22254431],\n",
       "       [ 2.40809751,  2.2358729 ],\n",
       "       [ 2.0187057 ,  0.7948848 ],\n",
       "       [ 2.11113816, -1.0004532 ],\n",
       "       [ 1.46624632, -2.10931107],\n",
       "       [ 2.61857717, -1.83369979],\n",
       "       [ 1.30865993, -4.72801175],\n",
       "       [ 2.20003296,  4.46498028],\n",
       "       [ 2.35746292, -3.01644094],\n",
       "       [ 2.0055048 ,  0.69528337],\n",
       "       [ 2.27480914,  3.02023427],\n",
       "       [ 0.99891249, -1.89305795],\n",
       "       [ 2.37528301,  2.15194325],\n",
       "       [ 1.73114336, -0.69547321],\n",
       "       [ 0.99001693, -3.81238653],\n",
       "       [ 1.99051914,  0.93418936],\n",
       "       [ 1.41040433,  1.64187432],\n",
       "       [ 2.00625181,  3.26858377],\n",
       "       [ 1.17911333, -3.5637033 ],\n",
       "       [ 2.81851704, -1.34823881],\n",
       "       [ 1.0413141 , -1.84326214],\n",
       "       [ 0.74715617, -2.32697087],\n",
       "       [ 0.44945781, -2.81699559],\n",
       "       [ 2.70495993,  3.78908214],\n",
       "       [ 0.39533954, -1.42322067],\n",
       "       [ 2.34218138,  1.90318449],\n",
       "       [ 1.80657234, -1.97220043],\n",
       "       [ 2.43319954,  2.51290684],\n",
       "       [ 1.24539151,  1.27274002],\n",
       "       [ 1.06195133,  2.34759923],\n",
       "       [ 3.6354327 , -1.17152388],\n",
       "       [ 1.59172562,  1.70626729],\n",
       "       [ 1.29434369, -2.37230389],\n",
       "       [ 0.97066041,  1.65658639],\n",
       "       [ 2.97342266,  4.10199815],\n",
       "       [ 2.1034581 ,  2.21947445],\n",
       "       [ 1.8626899 , -1.78979335],\n",
       "       [ 1.8969252 , -2.09633146],\n",
       "       [ 1.00901172, -2.25159782],\n",
       "       [ 1.88365199,  2.45333568],\n",
       "       [ 3.12783572, -1.38322908],\n",
       "       [ 2.59840156,  3.00488098],\n",
       "       [ 0.41325548,  1.2323328 ],\n",
       "       [ 1.30718815, -5.27012803],\n",
       "       [ 1.10816696,  3.81854608],\n",
       "       [ 1.64886118, -3.3259992 ],\n",
       "       [ 1.63878206, -2.82841982],\n",
       "       [ 2.55309128, -1.33144826],\n",
       "       [ 0.9013386 ,  3.06377248],\n",
       "       [ 1.95247736,  0.94416771],\n",
       "       [ 2.50409422, -1.0888046 ],\n",
       "       [ 2.23214019,  2.60454499],\n",
       "       [ 5.04298337, -0.33695049],\n",
       "       [ 1.99439385, -3.27146156],\n",
       "       [ 2.96678621,  1.57713588],\n",
       "       [ 2.37746169,  0.97147132],\n",
       "       [ 1.29147239,  1.80552066],\n",
       "       [ 1.34849094,  2.30120716],\n",
       "       [ 2.56971488,  1.12258847],\n",
       "       [ 1.91408668, -2.87050133],\n",
       "       [ 3.42664326,  3.63676635],\n",
       "       [ 2.51540648,  2.37242668],\n",
       "       [ 2.14291688,  2.80544378],\n",
       "       [ 2.35150736,  2.6777346 ],\n",
       "       [ 3.19562811, -0.266182  ],\n",
       "       [ 1.9933656 ,  2.265043  ],\n",
       "       [ 2.16214034,  2.55201788],\n",
       "       [ 3.12311092,  3.41113975],\n",
       "       [ 3.47391395,  0.67513323],\n",
       "       [ 1.71701517,  2.66997059],\n",
       "       [ 2.68720945,  1.48697339],\n",
       "       [ 2.44438936,  3.68088027],\n",
       "       [ 1.50532155,  1.82923481],\n",
       "       [ 2.02120441,  2.47108232],\n",
       "       [ 1.90913979,  1.7954376 ],\n",
       "       [ 2.46545093,  1.75725191],\n",
       "       [ 1.61704363,  0.79896356],\n",
       "       [ 1.99895754,  2.41959477],\n",
       "       [ 0.21740112, -3.89036611],\n",
       "       [ 1.93119507, -1.54416233],\n",
       "       [ 1.17197851, -2.21883759],\n",
       "       [ 3.26355047, -0.25636511]])"
      ]
     },
     "execution_count": 3,
     "metadata": {},
     "output_type": "execute_result"
    }
   ],
   "source": [
    "X_train"
   ]
  },
  {
   "cell_type": "code",
   "execution_count": 4,
   "metadata": {},
   "outputs": [
    {
     "data": {
      "text/plain": [
       "array([-1,  1,  1,  1,  1,  1, -1,  1,  1, -1,  1,  1,  1,  1, -1,  1, -1,\n",
       "        1,  1, -1,  1,  1,  1,  1, -1,  1, -1,  1,  1, -1, -1, -1, -1, -1,\n",
       "       -1, -1,  1,  1, -1,  1, -1, -1, -1, -1,  1, -1, -1,  1,  1,  1, -1,\n",
       "        1,  1,  1,  1,  1, -1,  1,  1, -1, -1,  1,  1,  1,  1, -1, -1,  1,\n",
       "        1, -1, -1,  1, -1,  1,  1, -1, -1, -1,  1,  1,  1, -1,  1,  1,  1,\n",
       "        1, -1,  1,  1,  1,  1,  1, -1,  1,  1,  1, -1, -1,  1, -1, -1,  1,\n",
       "        1,  1, -1, -1,  1, -1, -1,  1, -1, -1, -1, -1, -1, -1, -1, -1, -1,\n",
       "       -1, -1,  1,  1,  1,  1, -1,  1, -1, -1,  1, -1,  1,  1, -1, -1, -1,\n",
       "        1,  1,  1,  1,  1, -1,  1, -1,  1, -1, -1, -1,  1, -1,  1, -1, -1,\n",
       "       -1,  1,  1,  1, -1,  1, -1, -1,  1, -1,  1,  1,  1, -1, -1,  1, -1,\n",
       "        1,  1, -1, -1, -1, -1, -1,  1, -1, -1, -1, -1,  1, -1, -1, -1,  1,\n",
       "       -1, -1, -1, -1, -1, -1, -1, -1, -1,  1,  1,  1,  1])"
      ]
     },
     "execution_count": 4,
     "metadata": {},
     "output_type": "execute_result"
    }
   ],
   "source": [
    "Y_train"
   ]
  },
  {
   "cell_type": "code",
   "execution_count": 5,
   "metadata": {},
   "outputs": [],
   "source": [
    "w = np.zeros(X_train.shape[1]); b = 0.0"
   ]
  },
  {
   "cell_type": "code",
   "execution_count": 8,
   "metadata": {},
   "outputs": [
    {
     "data": {
      "text/plain": [
       "array([0., 0.])"
      ]
     },
     "execution_count": 8,
     "metadata": {},
     "output_type": "execute_result"
    }
   ],
   "source": [
    "w"
   ]
  },
  {
   "cell_type": "code",
   "execution_count": 6,
   "metadata": {},
   "outputs": [],
   "source": [
    "eta = 0.1"
   ]
  },
  {
   "cell_type": "code",
   "execution_count": 7,
   "metadata": {},
   "outputs": [],
   "source": [
    "echo = 1"
   ]
  },
  {
   "cell_type": "code",
   "execution_count": 8,
   "metadata": {},
   "outputs": [
    {
     "name": "stdout",
     "output_type": "stream",
     "text": [
      "0.055\n"
     ]
    }
   ],
   "source": [
    "\n",
    "for j in range(echo):\n",
    "    error = 0\n",
    "    for i in range(len(X_train)):\n",
    "        #prediction\n",
    "        yhat = np.where((np.dot(X_train[i],w) + b) >=0, 1 , -1)\n",
    "        #if its not same, update the parameter w and b\n",
    "        if yhat != Y_train[i]:\n",
    "            error+=1\n",
    "            w += eta*Y_train[i]*X_train[i]\n",
    "            b += eta *Y_train[i]\n",
    "\n",
    "    print(error/len(X_train))"
   ]
  },
  {
   "cell_type": "code",
   "execution_count": 9,
   "metadata": {},
   "outputs": [
    {
     "data": {
      "text/plain": [
       "array([ 0.17339159, -0.68224877])"
      ]
     },
     "execution_count": 9,
     "metadata": {},
     "output_type": "execute_result"
    }
   ],
   "source": [
    "w"
   ]
  },
  {
   "cell_type": "code",
   "execution_count": 10,
   "metadata": {},
   "outputs": [
    {
     "data": {
      "text/plain": [
       "-0.1"
      ]
     },
     "execution_count": 10,
     "metadata": {},
     "output_type": "execute_result"
    }
   ],
   "source": [
    "b"
   ]
  },
  {
   "cell_type": "code",
   "execution_count": 11,
   "metadata": {},
   "outputs": [
    {
     "data": {
      "image/png": "[encoded data removed]",
      "text/plain": [
       "<Figure size 768x512 with 1 Axes>"
      ]
     },
     "metadata": {
      "needs_background": "light"
     },
     "output_type": "display_data"
    }
   ],
   "source": [
    "def plot_results(X_train, Y_train, score_fn, threshold = 0):\n",
    "    # Plot training set\n",
    "    plt.plot(X_train[Y_train==-1,0], X_train[Y_train==-1,1], \".\", label=r\"$y=-1$, train\")\n",
    "    plt.plot(X_train[Y_train==1,0], X_train[Y_train==1,1], \".\", label=r\"$y=1$, train\")\n",
    "    plt.gca().set_prop_cycle(None) # reset colour cycle\n",
    "\n",
    "\n",
    "    # Compute axes limits\n",
    "    border = 1\n",
    "    x0_lower = X_train[:,0].min() - border\n",
    "    x0_upper =X_train[:,0].max() + border\n",
    "    x1_lower = X_train[:,1].min() - border\n",
    "    x1_upper = X_train[:,1].max() + border\n",
    "\n",
    "    # Generate grid over feature space\n",
    "    resolution = 0.01\n",
    "    x0, x1 = np.mgrid[x0_lower:x0_upper:resolution, x1_lower:x1_upper:resolution]\n",
    "    grid = np.c_[x0.ravel(), x1.ravel()]\n",
    "    s = score_fn(grid).reshape(x0.shape)\n",
    "\n",
    "    # Plot decision boundary (where s(x) == 0)等高线\n",
    "    plt.contour(x0, x1, s, levels=[0], cmap=\"Greys\", vmin=-0.2, vmax=0.2)\n",
    "\n",
    "    plt.legend()\n",
    "    plt.xlabel(\"$x_0$\")\n",
    "    plt.ylabel(\"$x_1$\")\n",
    "    plt.show()\n",
    "    \n",
    "plot_results(X_train, Y_train, lambda X: (np.dot(X, w) + b))"
   ]
  },
  {
   "cell_type": "code",
   "execution_count": null,
   "metadata": {},
   "outputs": [],
   "source": []
  }
 ],
 "metadata": {
  "kernelspec": {
   "display_name": "Python 3",
   "language": "python",
   "name": "python3"
  },
  "language_info": {
   "codemirror_mode": {
    "name": "ipython",
    "version": 3
   },
   "file_extension": ".py",
   "mimetype": "text/x-python",
   "name": "python",
   "nbconvert_exporter": "python",
   "pygments_lexer": "ipython3",
   "version": "3.7.2"
  }
 },
 "nbformat": 4,
 "nbformat_minor": 2
}
